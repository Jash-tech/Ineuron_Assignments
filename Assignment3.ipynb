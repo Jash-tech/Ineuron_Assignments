{
 "cells": [
  {
   "cell_type": "markdown",
   "id": "5fb70a03",
   "metadata": {},
   "source": [
    "1. Why are functions advantageous to have in your programs? <br>\n",
    "It provides modularity and reusability"
   ]
  },
  {
   "cell_type": "markdown",
   "id": "1f63ded4",
   "metadata": {},
   "source": [
    "2. When does the code in a function run: when its specified or when its called? <br>\n",
    "A function run when its called.    "
   ]
  },
  {
   "cell_type": "markdown",
   "id": "273bbf65",
   "metadata": {},
   "source": [
    "3. What statement creates a function? <br>\n",
    "def statememt creates a function"
   ]
  },
  {
   "cell_type": "markdown",
   "id": "613936b1",
   "metadata": {},
   "source": [
    "4. What is the difference between a function and a function call? <br>\n",
    "A function is a named block of code that performs a specific task or set of tasks. <br>\n",
    "A function call is the actual execution of the code within a function. <br>"
   ]
  },
  {
   "cell_type": "markdown",
   "id": "4da94506",
   "metadata": {},
   "source": [
    "5. How many global scopes are there in a Python program? How many local scopes? <br>\n",
    "In a Python program, there can be one global scope and multiple local scopes."
   ]
  },
  {
   "cell_type": "markdown",
   "id": "3648c2fe",
   "metadata": {},
   "source": [
    "6. What happens to variables in a local scope when the function call returns?<br>\n",
    "When a function call returns, the local scope that was created for that function is destroyed and  the local variables are deleted."
   ]
  },
  {
   "cell_type": "markdown",
   "id": "b448f00c",
   "metadata": {},
   "source": [
    "7. What is the concept of a return value? Is it possible to have a return value in an expression? <br>\n",
    "The concept of a return value in programming refers to the value that a function sends back to the caller when the function is executed.<br>\n",
    "yes, we can use a function's return value directly in an expression."
   ]
  },
  {
   "cell_type": "markdown",
   "id": "d781aae4",
   "metadata": {},
   "source": [
    "8. If a function does not have a return statement, what is the return value of a call to that function? <br>\n",
    "If a function does not have a return statement, the return value of a call to that function will be None"
   ]
  },
  {
   "cell_type": "markdown",
   "id": "ba6cce89",
   "metadata": {},
   "source": [
    "9. How do you make a function variable refer to the global variable? <br>\n",
    "We can use the global keyword before the variable name within the function to access the global variable. "
   ]
  },
  {
   "cell_type": "markdown",
   "id": "98790397",
   "metadata": {},
   "source": [
    "10. What is the data type of None? <br>\n",
    "The data type of None in Python is called NoneType. "
   ]
  },
  {
   "cell_type": "markdown",
   "id": "a278ff11",
   "metadata": {},
   "source": [
    "12. If you had a bacon() feature in a spam module, what would you call it after importing spam?<br>\n",
    "import spam\n",
    "\n",
    "spam.bacon()\n"
   ]
  },
  {
   "cell_type": "markdown",
   "id": "4515da77",
   "metadata": {},
   "source": [
    "13. What can you do to save a programme from crashing if it encounters an error? <br>\n",
    "Using Try-Except Blocks."
   ]
  },
  {
   "cell_type": "markdown",
   "id": "338ac891",
   "metadata": {},
   "source": [
    "14. What is the purpose of the try clause? What is the purpose of the except clause? <br>\n",
    "try:<br>\n",
    "  Code that might raise an exception<br>\n",
    "except SomeException:<br>\n",
    "    Code to handle the specific exception"
   ]
  },
  {
   "cell_type": "code",
   "execution_count": null,
   "id": "461a4cc0",
   "metadata": {},
   "outputs": [],
   "source": []
  }
 ],
 "metadata": {
  "kernelspec": {
   "display_name": "Python 3 (ipykernel)",
   "language": "python",
   "name": "python3"
  },
  "language_info": {
   "codemirror_mode": {
    "name": "ipython",
    "version": 3
   },
   "file_extension": ".py",
   "mimetype": "text/x-python",
   "name": "python",
   "nbconvert_exporter": "python",
   "pygments_lexer": "ipython3",
   "version": "3.9.7"
  }
 },
 "nbformat": 4,
 "nbformat_minor": 5
}
