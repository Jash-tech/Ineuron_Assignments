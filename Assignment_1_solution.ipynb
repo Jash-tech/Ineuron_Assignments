{
 "cells": [
  {
   "cell_type": "markdown",
   "id": "330ff2fe",
   "metadata": {},
   "source": [
    "Ques1:"
   ]
  },
  {
   "cell_type": "markdown",
   "id": "69aa7edb",
   "metadata": {},
   "source": [
    "'*': Expression<br>\n",
    "'hello': values<br>\n",
    "'-87.8': values<br>\n",
    "'-': expression<br>\n",
    "'/': expression<br>\n",
    "'+': expression<br>\n",
    "'6': values<br>"
   ]
  },
  {
   "cell_type": "markdown",
   "id": "5262cc3a",
   "metadata": {},
   "source": [
    "Ques2:"
   ]
  },
  {
   "cell_type": "markdown",
   "id": "8d0fe773",
   "metadata": {},
   "source": [
    "String: string is a type of datatype eg:'sudh','123' etc <br>\n",
    "Variable: Variable is someting that can store the values that may be of any data type like string, integer. eg a= 10,b='sudh'.<br>"
   ]
  },
  {
   "cell_type": "markdown",
   "id": "db816a84",
   "metadata": {},
   "source": [
    "Ques3:"
   ]
  },
  {
   "cell_type": "markdown",
   "id": "fa3db326",
   "metadata": {},
   "source": [
    "Types of Datatypes: <br>\n",
    "Integer: It contains  numerical values with no decimal digits. like 12,34545,-44,4.<br>\n",
    "Float: It also contains numerical values but with decimal digits . eg 10.3,45.8.<br>\n",
    "String: It contains categorical values such as names , city  etc eg : 'sudh'.<br>"
   ]
  },
  {
   "cell_type": "markdown",
   "id": "e5cb3354",
   "metadata": {},
   "source": [
    "Ques4:"
   ]
  },
  {
   "cell_type": "markdown",
   "id": "6925818a",
   "metadata": {},
   "source": [
    "Expression is made up of Operators (like '+','/') and operands ( Object that is created) eg: x=x-1 <br>\n",
    "Expression helps in obtaining the result based on given conditions . <br>"
   ]
  },
  {
   "cell_type": "markdown",
   "id": "3b58072a",
   "metadata": {},
   "source": [
    "Ques5:"
   ]
  },
  {
   "cell_type": "markdown",
   "id": "7775e2bd",
   "metadata": {},
   "source": [
    "Statement : x= 34 <br>\n",
    "Expression : x=x+2 <br>\n",
    "Statement is used for creating variables.<br>\n",
    "Expression helps in obtaining the result based on given conditions.<br>"
   ]
  },
  {
   "cell_type": "markdown",
   "id": "38a2c89b",
   "metadata": {},
   "source": [
    "Ques6:\n"
   ]
  },
  {
   "cell_type": "code",
   "execution_count": 8,
   "id": "0f72a9f2",
   "metadata": {},
   "outputs": [],
   "source": [
    "bacon=23"
   ]
  },
  {
   "cell_type": "markdown",
   "id": "3d51bdd0",
   "metadata": {},
   "source": [
    "Ques7:"
   ]
  },
  {
   "cell_type": "code",
   "execution_count": 9,
   "id": "06503b13",
   "metadata": {},
   "outputs": [
    {
     "data": {
      "text/plain": [
       "'spamspamspam'"
      ]
     },
     "execution_count": 9,
     "metadata": {},
     "output_type": "execute_result"
    }
   ],
   "source": [
    "'spam'+'spamspam'"
   ]
  },
  {
   "cell_type": "code",
   "execution_count": 10,
   "id": "8ac794fd",
   "metadata": {},
   "outputs": [
    {
     "data": {
      "text/plain": [
       "'spamspamspam'"
      ]
     },
     "execution_count": 10,
     "metadata": {},
     "output_type": "execute_result"
    }
   ],
   "source": [
    "'spam'*3"
   ]
  },
  {
   "cell_type": "markdown",
   "id": "4c407e65",
   "metadata": {},
   "source": [
    "Ques8:"
   ]
  },
  {
   "cell_type": "markdown",
   "id": "2f69cd78",
   "metadata": {},
   "source": [
    "Variable cant start with number"
   ]
  },
  {
   "cell_type": "markdown",
   "id": "574dacbf",
   "metadata": {},
   "source": [
    "Ques9:"
   ]
  },
  {
   "cell_type": "markdown",
   "id": "85d4ea22",
   "metadata": {},
   "source": [
    "The int(), float(), and str() functions will evaluate to the integer, floating-point number, and string versions of the value passed to them"
   ]
  },
  {
   "cell_type": "markdown",
   "id": "b68303e6",
   "metadata": {},
   "source": [
    "Ques10:"
   ]
  },
  {
   "cell_type": "code",
   "execution_count": 19,
   "id": "e41752f4",
   "metadata": {},
   "outputs": [
    {
     "ename": "TypeError",
     "evalue": "can only concatenate str (not \"int\") to str",
     "output_type": "error",
     "traceback": [
      "\u001b[1;31m---------------------------------------------------------------------------\u001b[0m",
      "\u001b[1;31mTypeError\u001b[0m                                 Traceback (most recent call last)",
      "\u001b[1;32m~\\AppData\\Local\\Temp/ipykernel_21380/3699297570.py\u001b[0m in \u001b[0;36m<module>\u001b[1;34m\u001b[0m\n\u001b[1;32m----> 1\u001b[1;33m \u001b[1;34m'I have eaten '\u001b[0m \u001b[1;33m+\u001b[0m \u001b[1;36m99\u001b[0m \u001b[1;33m+\u001b[0m \u001b[1;34m' burritos'\u001b[0m\u001b[1;33m\u001b[0m\u001b[1;33m\u001b[0m\u001b[0m\n\u001b[0m",
      "\u001b[1;31mTypeError\u001b[0m: can only concatenate str (not \"int\") to str"
     ]
    }
   ],
   "source": [
    "'I have eaten ' + 99 + ' burritos'"
   ]
  },
  {
   "cell_type": "code",
   "execution_count": 20,
   "id": "dc13a6fd",
   "metadata": {},
   "outputs": [
    {
     "data": {
      "text/plain": [
       "'I have eaten 99  burritos'"
      ]
     },
     "execution_count": 20,
     "metadata": {},
     "output_type": "execute_result"
    }
   ],
   "source": [
    "'I have eaten ' + '99 '+ ' burritos'"
   ]
  },
  {
   "cell_type": "code",
   "execution_count": null,
   "id": "4aa124bc",
   "metadata": {},
   "outputs": [],
   "source": []
  }
 ],
 "metadata": {
  "kernelspec": {
   "display_name": "Python 3 (ipykernel)",
   "language": "python",
   "name": "python3"
  },
  "language_info": {
   "codemirror_mode": {
    "name": "ipython",
    "version": 3
   },
   "file_extension": ".py",
   "mimetype": "text/x-python",
   "name": "python",
   "nbconvert_exporter": "python",
   "pygments_lexer": "ipython3",
   "version": "3.9.7"
  }
 },
 "nbformat": 4,
 "nbformat_minor": 5
}
