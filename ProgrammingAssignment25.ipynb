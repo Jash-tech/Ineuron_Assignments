{
 "cells": [
  {
   "cell_type": "markdown",
   "id": "0bc208bf",
   "metadata": {},
   "source": [
    "Ques1"
   ]
  },
  {
   "cell_type": "code",
   "execution_count": 11,
   "id": "015d7094",
   "metadata": {},
   "outputs": [],
   "source": [
    "def equalamount(a,b,c):\n",
    "    count=0\n",
    "    if a==b:\n",
    "        \n",
    "        count=count+1\n",
    "    if a==c:\n",
    "        count=count+1\n",
    "    if b==c:\n",
    "        count=count+1\n",
    "        \n",
    "    return count\n",
    "        \n",
    "    "
   ]
  },
  {
   "cell_type": "code",
   "execution_count": 12,
   "id": "76d296e8",
   "metadata": {},
   "outputs": [
    {
     "data": {
      "text/plain": [
       "0"
      ]
     },
     "execution_count": 12,
     "metadata": {},
     "output_type": "execute_result"
    }
   ],
   "source": [
    "equalamount(3,4,5)"
   ]
  },
  {
   "cell_type": "markdown",
   "id": "05d2ec49",
   "metadata": {},
   "source": [
    "Ques2"
   ]
  },
  {
   "cell_type": "code",
   "execution_count": 46,
   "id": "49ab11af",
   "metadata": {},
   "outputs": [],
   "source": [
    "d={\"A\":1,\"B\":2,\"C\":3}"
   ]
  },
  {
   "cell_type": "code",
   "execution_count": 51,
   "id": "1a243afb",
   "metadata": {},
   "outputs": [],
   "source": [
    "def dict_to_list(d):\n",
    "    try:\n",
    "        \n",
    "        if isinstance(d,dict):\n",
    "        \n",
    "            a=list(zip(d.keys(),d.values()))\n",
    "            return sorted(a)\n",
    "        else:\n",
    "            raise ValueError(\"Input is not a dictionary\")\n",
    "    except Exception as e:\n",
    "        print(e)\n",
    "    "
   ]
  },
  {
   "cell_type": "code",
   "execution_count": 52,
   "id": "753422a8",
   "metadata": {},
   "outputs": [
    {
     "name": "stdout",
     "output_type": "stream",
     "text": [
      "Input is not a dictionary\n"
     ]
    }
   ],
   "source": [
    "dict_to_list(1)"
   ]
  },
  {
   "cell_type": "markdown",
   "id": "da8c1763",
   "metadata": {},
   "source": [
    "Ques3"
   ]
  },
  {
   "cell_type": "code",
   "execution_count": 100,
   "id": "0fe9edcc",
   "metadata": {},
   "outputs": [],
   "source": [
    "l=[(\"q\",\"b\"),(\"a\",\"b\"),\"f\",[\"w\",\"s\"],{\"g\":1,\"d\":2}]"
   ]
  },
  {
   "cell_type": "code",
   "execution_count": 107,
   "id": "7a09bcaf",
   "metadata": {},
   "outputs": [],
   "source": [
    "def mapping(b):\n",
    "    \n",
    "    a=[]\n",
    "    for i in l:\n",
    "\n",
    "\n",
    "        if isinstance(i,str):\n",
    "            a.append(i.upper())\n",
    "        if isinstance(i,tuple):\n",
    "            for j in range(len(i)):\n",
    "                a.append(i[j].upper())\n",
    "        if isinstance(i,list):\n",
    "            for j in range(len(i)):\n",
    "                a.append(i[j].upper())\n",
    "        if isinstance(i,dict):\n",
    "            d=list(i.keys())\n",
    "            for j in range(len(d)):\n",
    "                a.append(d[j].upper())\n",
    "\n",
    "\n",
    "    print(a)\n",
    "    \n",
    " "
   ]
  },
  {
   "cell_type": "code",
   "execution_count": 108,
   "id": "d6c2ea08",
   "metadata": {},
   "outputs": [
    {
     "name": "stdout",
     "output_type": "stream",
     "text": [
      "['Q', 'B', 'A', 'B', 'F', 'W', 'S', 'G', 'D']\n"
     ]
    }
   ],
   "source": [
    "mapping(l)"
   ]
  },
  {
   "cell_type": "code",
   "execution_count": 115,
   "id": "cf30c354",
   "metadata": {},
   "outputs": [],
   "source": [
    "def vowels_replace(a,b):\n",
    "    \n",
    "    for i in 'aeiouAEIOU':\n",
    "        a=a.replace(i,b)\n",
    "    print (a)"
   ]
  },
  {
   "cell_type": "code",
   "execution_count": 117,
   "id": "c74dad52",
   "metadata": {},
   "outputs": [
    {
     "name": "stdout",
     "output_type": "stream",
     "text": [
      "fpplfs fnd bfnfnfs\n"
     ]
    }
   ],
   "source": [
    "vowels_replace(\"apples and bananas\",\"f\")\n"
   ]
  },
  {
   "cell_type": "code",
   "execution_count": null,
   "id": "ee21f1ad",
   "metadata": {},
   "outputs": [],
   "source": []
  }
 ],
 "metadata": {
  "kernelspec": {
   "display_name": "Python 3 (ipykernel)",
   "language": "python",
   "name": "python3"
  },
  "language_info": {
   "codemirror_mode": {
    "name": "ipython",
    "version": 3
   },
   "file_extension": ".py",
   "mimetype": "text/x-python",
   "name": "python",
   "nbconvert_exporter": "python",
   "pygments_lexer": "ipython3",
   "version": "3.9.7"
  }
 },
 "nbformat": 4,
 "nbformat_minor": 5
}
