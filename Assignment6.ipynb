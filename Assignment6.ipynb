{
 "cells": [
  {
   "cell_type": "markdown",
   "id": "22fab949",
   "metadata": {},
   "source": [
    "1. What are escape characters, and how do you use them?<br>\n",
    "2. What do the escape characters n and t stand for?"
   ]
  },
  {
   "cell_type": "markdown",
   "id": "0aea6552",
   "metadata": {},
   "source": [
    "\\n: Newline - Inserts a newline (line break) in the string. <br>\n",
    "\\t: Tab - Inserts a tab character.<br>\n",
    "\\': Single Quote - Inserts a single quote character within a single-quoted string.<br>\n",
    "\\\": Double Quote - Inserts a double quote character within a double-quoted string.<br>\n",
    "\\\\: Backslash - Inserts a literal backslash character.<br>"
   ]
  },
  {
   "cell_type": "markdown",
   "id": "dcf24fc2",
   "metadata": {},
   "source": [
    "3. What is the way to include backslash characters in a string?"
   ]
  },
  {
   "cell_type": "code",
   "execution_count": 5,
   "id": "cb6910c3",
   "metadata": {},
   "outputs": [
    {
     "name": "stdout",
     "output_type": "stream",
     "text": [
      "This is a backslash: \\\n"
     ]
    }
   ],
   "source": [
    "print(\"This is a backslash: \\\\\")"
   ]
  },
  {
   "cell_type": "markdown",
   "id": "a9d5f451",
   "metadata": {},
   "source": [
    "5. How do you write a string of newlines if you dont want to use the n character?<br>\n",
    "by using triple-quoted strings."
   ]
  },
  {
   "cell_type": "markdown",
   "id": "e144335c",
   "metadata": {},
   "source": [
    "6. What are the values of the given expressions? <br>\n",
    "'e' <br>\n",
    "'Hello' <br>\n",
    "'Hello' <br>\n",
    "'lo, world!' <br>"
   ]
  },
  {
   "cell_type": "markdown",
   "id": "7bf65e24",
   "metadata": {},
   "source": [
    "7. What are the values of the following expressions?<br>\n",
    "'HELLO'<br>\n",
    "True<br>\n",
    "'hello'<br>"
   ]
  },
  {
   "cell_type": "markdown",
   "id": "06c98f82",
   "metadata": {},
   "source": [
    "8. What are the values of the following expressions?"
   ]
  },
  {
   "cell_type": "code",
   "execution_count": 6,
   "id": "368305c4",
   "metadata": {},
   "outputs": [
    {
     "data": {
      "text/plain": [
       "['Remember,', 'remember,', 'the', 'fifth', 'of', 'July.']"
      ]
     },
     "execution_count": 6,
     "metadata": {},
     "output_type": "execute_result"
    }
   ],
   "source": [
    "'Remember, remember, the fifth of July.'.split()"
   ]
  },
  {
   "cell_type": "code",
   "execution_count": 7,
   "id": "f5054764",
   "metadata": {},
   "outputs": [
    {
     "data": {
      "text/plain": [
       "'There-can-only-one.'"
      ]
     },
     "execution_count": 7,
     "metadata": {},
     "output_type": "execute_result"
    }
   ],
   "source": [
    "'-'.join('There can only one.'.split())"
   ]
  },
  {
   "cell_type": "code",
   "execution_count": 8,
   "id": "11e04dd8",
   "metadata": {},
   "outputs": [
    {
     "data": {
      "text/plain": [
       "'Remember,-remember,-the-fifth-of-July.'"
      ]
     },
     "execution_count": 8,
     "metadata": {},
     "output_type": "execute_result"
    }
   ],
   "source": [
    "\"-\".join(['Remember,', 'remember,', 'the', 'fifth', 'of', 'July.'])"
   ]
  },
  {
   "cell_type": "markdown",
   "id": "7f35a344",
   "metadata": {},
   "source": [
    "9. What are the methods for right-justifying, left-justifying, and centering a string?<br>"
   ]
  },
  {
   "cell_type": "code",
   "execution_count": 9,
   "id": "76394005",
   "metadata": {},
   "outputs": [],
   "source": [
    "text = \"Hello\"\n",
    "left_justified = text.ljust(10)\n",
    "right_justified = text.rjust(10)\n",
    "center_justified = text.center(10)"
   ]
  },
  {
   "cell_type": "code",
   "execution_count": 13,
   "id": "99434425",
   "metadata": {},
   "outputs": [
    {
     "data": {
      "text/plain": [
       "'Hello'"
      ]
     },
     "execution_count": 13,
     "metadata": {},
     "output_type": "execute_result"
    }
   ],
   "source": [
    "text"
   ]
  },
  {
   "cell_type": "code",
   "execution_count": 12,
   "id": "00d76545",
   "metadata": {},
   "outputs": [
    {
     "data": {
      "text/plain": [
       "'Hello     '"
      ]
     },
     "execution_count": 12,
     "metadata": {},
     "output_type": "execute_result"
    }
   ],
   "source": [
    "left_justified"
   ]
  },
  {
   "cell_type": "code",
   "execution_count": 14,
   "id": "e2b0fb72",
   "metadata": {},
   "outputs": [
    {
     "data": {
      "text/plain": [
       "'     Hello'"
      ]
     },
     "execution_count": 14,
     "metadata": {},
     "output_type": "execute_result"
    }
   ],
   "source": [
    "right_justified"
   ]
  },
  {
   "cell_type": "code",
   "execution_count": 15,
   "id": "8b05d375",
   "metadata": {},
   "outputs": [
    {
     "data": {
      "text/plain": [
       "'  Hello   '"
      ]
     },
     "execution_count": 15,
     "metadata": {},
     "output_type": "execute_result"
    }
   ],
   "source": [
    "center_justified"
   ]
  },
  {
   "cell_type": "markdown",
   "id": "0d102d7e",
   "metadata": {},
   "source": [
    "10. What is the best way to remove whitespace characters from the start or end?<br>\n",
    ".strip()"
   ]
  },
  {
   "cell_type": "code",
   "execution_count": null,
   "id": "783063af",
   "metadata": {},
   "outputs": [],
   "source": []
  }
 ],
 "metadata": {
  "kernelspec": {
   "display_name": "Python 3 (ipykernel)",
   "language": "python",
   "name": "python3"
  },
  "language_info": {
   "codemirror_mode": {
    "name": "ipython",
    "version": 3
   },
   "file_extension": ".py",
   "mimetype": "text/x-python",
   "name": "python",
   "nbconvert_exporter": "python",
   "pygments_lexer": "ipython3",
   "version": "3.9.7"
  }
 },
 "nbformat": 4,
 "nbformat_minor": 5
}
