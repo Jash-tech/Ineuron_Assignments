{
 "cells": [
  {
   "cell_type": "markdown",
   "id": "ada60074",
   "metadata": {},
   "source": [
    "Ques1:"
   ]
  },
  {
   "cell_type": "markdown",
   "id": "e73c9658",
   "metadata": {},
   "source": [
    "Boolean Data Type values: <br>\n",
    "    True<br>\n",
    "    False<br>"
   ]
  },
  {
   "cell_type": "markdown",
   "id": "5307a8ec",
   "metadata": {},
   "source": [
    "Ques2:"
   ]
  },
  {
   "cell_type": "markdown",
   "id": "bc7cca76",
   "metadata": {},
   "source": [
    "Boolean Operators:<br>\n",
    "AND <br>\n",
    "OR <br>\n",
    "NOT <br>"
   ]
  },
  {
   "cell_type": "markdown",
   "id": "23414dad",
   "metadata": {},
   "source": [
    "Ques3:"
   ]
  },
  {
   "cell_type": "markdown",
   "id": "b7a6d7ad",
   "metadata": {},
   "source": [
    " 1 and 0 --0 <br>\n",
    " 0 and 1 --0 <br>\n",
    " 0 and 0 --0 <br>\n",
    " 1 and 1 --1 <br>\n",
    " \n",
    " 1 or 0 --1 <br>\n",
    " 0 or 1 --1 <br>\n",
    " 0 or 0 --0 <br>\n",
    " 1 or 1 --1 <br>"
   ]
  },
  {
   "cell_type": "markdown",
   "id": "58cd5460",
   "metadata": {},
   "source": [
    "Ques4"
   ]
  },
  {
   "cell_type": "markdown",
   "id": "214dbfc0",
   "metadata": {},
   "source": [
    "True:(5>4) or (3==5)\n",
    "False:(5>4)and(3==5),not(5>4),(True and True) and (True==False)"
   ]
  },
  {
   "cell_type": "markdown",
   "id": "62e84a71",
   "metadata": {},
   "source": [
    "Ques5"
   ]
  },
  {
   "cell_type": "markdown",
   "id": "f7344b9d",
   "metadata": {},
   "source": [
    "Comaparison operators:==,<,>,>=,<=,!="
   ]
  },
  {
   "cell_type": "markdown",
   "id": "352cd1ad",
   "metadata": {},
   "source": [
    "Ques6:"
   ]
  },
  {
   "cell_type": "markdown",
   "id": "8759021f",
   "metadata": {},
   "source": [
    "Assignment Operator: '='<br>\n",
    "Equal to or comaprison Operator : '=='<br>"
   ]
  },
  {
   "cell_type": "markdown",
   "id": "2c524bc9",
   "metadata": {},
   "source": [
    "Ques7:"
   ]
  },
  {
   "cell_type": "code",
   "execution_count": 5,
   "id": "bf054914",
   "metadata": {},
   "outputs": [
    {
     "name": "stdout",
     "output_type": "stream",
     "text": [
      "ham\n",
      "spam\n"
     ]
    }
   ],
   "source": [
    "spam=0\n",
    "if spam==10: \n",
    "    print('eggs')## Block1\n",
    "if spam>5:      \n",
    "    print('bacon') ## Block2\n",
    "else:             \n",
    "    print('ham')  ## Block3\n",
    "    print('spam')\n",
    "    "
   ]
  },
  {
   "cell_type": "markdown",
   "id": "02da6d44",
   "metadata": {},
   "source": [
    "Ques8:"
   ]
  },
  {
   "cell_type": "code",
   "execution_count": 27,
   "id": "ff56009a",
   "metadata": {},
   "outputs": [
    {
     "name": "stdout",
     "output_type": "stream",
     "text": [
      "Enter a value:t67t\n",
      "Greeting\n"
     ]
    }
   ],
   "source": [
    "spam=input('Enter a value:')\n",
    "try:\n",
    "    if int(spam)==1:\n",
    "        print('hello')\n",
    "    elif int(spam)==2:\n",
    "        print('howdy')\n",
    "    else:\n",
    "        print('Greeting')\n",
    "except Exception as e:\n",
    "    print('Greeting')"
   ]
  },
  {
   "cell_type": "markdown",
   "id": "76c012ae",
   "metadata": {},
   "source": [
    "Ques9:"
   ]
  },
  {
   "cell_type": "markdown",
   "id": "0f1dd1c7",
   "metadata": {},
   "source": [
    "Interupt Kernel: Press twice i button to interupt kernal to stop infinite loop"
   ]
  },
  {
   "cell_type": "markdown",
   "id": "dad23074",
   "metadata": {},
   "source": [
    "Ques10"
   ]
  },
  {
   "cell_type": "markdown",
   "id": "72b86a93",
   "metadata": {},
   "source": [
    "Break: It breaks the loop.<br>\n",
    "Continue : It gives contro back to the loop without interrupting.<br>"
   ]
  },
  {
   "cell_type": "markdown",
   "id": "99e7c8ee",
   "metadata": {},
   "source": [
    "Ques11:"
   ]
  },
  {
   "cell_type": "markdown",
   "id": "bd40c4fe",
   "metadata": {},
   "source": [
    "All are same: range(10),range(0,10),range(0,10,1)"
   ]
  },
  {
   "cell_type": "markdown",
   "id": "93da1380",
   "metadata": {},
   "source": [
    "Ques12:\n"
   ]
  },
  {
   "cell_type": "code",
   "execution_count": 38,
   "id": "05ae993b",
   "metadata": {},
   "outputs": [
    {
     "name": "stdout",
     "output_type": "stream",
     "text": [
      "0\n",
      "1\n",
      "2\n",
      "3\n",
      "4\n",
      "5\n",
      "6\n",
      "7\n",
      "8\n",
      "9\n",
      "10\n"
     ]
    }
   ],
   "source": [
    "for i in range(11):\n",
    "    print(i)"
   ]
  },
  {
   "cell_type": "code",
   "execution_count": 39,
   "id": "60eac7dd",
   "metadata": {},
   "outputs": [
    {
     "name": "stdout",
     "output_type": "stream",
     "text": [
      "0\n",
      "1\n",
      "2\n",
      "3\n",
      "4\n",
      "5\n",
      "6\n",
      "7\n",
      "8\n",
      "9\n",
      "10\n"
     ]
    }
   ],
   "source": [
    "i=0\n",
    "while i<11:\n",
    "    print(i)\n",
    "    i=i+1"
   ]
  },
  {
   "cell_type": "markdown",
   "id": "a0890a64",
   "metadata": {},
   "source": [
    "Ques13"
   ]
  },
  {
   "cell_type": "markdown",
   "id": "1fa4a9fe",
   "metadata": {},
   "source": [
    "import spam <br>\n",
    "spam.bacon()"
   ]
  },
  {
   "cell_type": "code",
   "execution_count": null,
   "id": "8d0b920b",
   "metadata": {},
   "outputs": [],
   "source": []
  },
  {
   "cell_type": "code",
   "execution_count": null,
   "id": "79a09ae5",
   "metadata": {},
   "outputs": [],
   "source": []
  },
  {
   "cell_type": "code",
   "execution_count": null,
   "id": "f3d4f8ba",
   "metadata": {},
   "outputs": [],
   "source": []
  }
 ],
 "metadata": {
  "kernelspec": {
   "display_name": "Python 3 (ipykernel)",
   "language": "python",
   "name": "python3"
  },
  "language_info": {
   "codemirror_mode": {
    "name": "ipython",
    "version": 3
   },
   "file_extension": ".py",
   "mimetype": "text/x-python",
   "name": "python",
   "nbconvert_exporter": "python",
   "pygments_lexer": "ipython3",
   "version": "3.9.7"
  }
 },
 "nbformat": 4,
 "nbformat_minor": 5
}
