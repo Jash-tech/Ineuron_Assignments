{
 "cells": [
  {
   "cell_type": "markdown",
   "id": "4acb7416",
   "metadata": {},
   "source": [
    "1. What does an empty dictionary code look like? <br>\n",
    "empty_dict = {}"
   ]
  },
  {
   "cell_type": "markdown",
   "id": "a3e12ce8",
   "metadata": {},
   "source": [
    "2. What is the value of a dictionary value with the key foo and the value 42? <br>\n",
    "42"
   ]
  },
  {
   "cell_type": "markdown",
   "id": "d091edd0",
   "metadata": {},
   "source": [
    "3. What is the most significant distinction between a dictionary and a list? <br>\n",
    "\n",
    "Aspect -> Dictionary | List <br>\n",
    "Storage -> Key-value pairs | Indexed items <br>\n",
    "Access by -> Key | Index <br>\n",
    "Ordering -> Unordered,unique and immutable | Ordered and Mutable <br>\n",
    "\n",
    "\n"
   ]
  },
  {
   "cell_type": "markdown",
   "id": "b32ef7be",
   "metadata": {},
   "source": [
    "4. What happens if you try to access spam[foo] if spam is {bar: 100}?"
   ]
  },
  {
   "cell_type": "code",
   "execution_count": 2,
   "id": "e790f222",
   "metadata": {},
   "outputs": [],
   "source": [
    "spam={'bar':100}"
   ]
  },
  {
   "cell_type": "code",
   "execution_count": 3,
   "id": "724e9066",
   "metadata": {},
   "outputs": [
    {
     "ename": "KeyError",
     "evalue": "'foo'",
     "output_type": "error",
     "traceback": [
      "\u001b[1;31m---------------------------------------------------------------------------\u001b[0m",
      "\u001b[1;31mKeyError\u001b[0m                                  Traceback (most recent call last)",
      "\u001b[1;32m~\\AppData\\Local\\Temp/ipykernel_26888/3999281786.py\u001b[0m in \u001b[0;36m<module>\u001b[1;34m\u001b[0m\n\u001b[1;32m----> 1\u001b[1;33m \u001b[0mspam\u001b[0m\u001b[1;33m[\u001b[0m\u001b[1;34m'foo'\u001b[0m\u001b[1;33m]\u001b[0m\u001b[1;33m\u001b[0m\u001b[1;33m\u001b[0m\u001b[0m\n\u001b[0m",
      "\u001b[1;31mKeyError\u001b[0m: 'foo'"
     ]
    }
   ],
   "source": [
    "spam['foo']"
   ]
  },
  {
   "cell_type": "markdown",
   "id": "18254969",
   "metadata": {},
   "source": [
    "5. If a dictionary is stored in spam, what is the difference between the expressions cat in spam and cat in spam.keys()?<br>\n",
    "6. If a dictionary is stored in spam, what is the difference between the expressions cat in spam and cat in spam.values()?"
   ]
  },
  {
   "cell_type": "code",
   "execution_count": 4,
   "id": "da0e9461",
   "metadata": {},
   "outputs": [],
   "source": [
    "spam={'cat':2}"
   ]
  },
  {
   "cell_type": "code",
   "execution_count": 6,
   "id": "c520e1f0",
   "metadata": {},
   "outputs": [
    {
     "data": {
      "text/plain": [
       "True"
      ]
     },
     "execution_count": 6,
     "metadata": {},
     "output_type": "execute_result"
    }
   ],
   "source": [
    "'cat' in spam #checking  if cat is present in keys"
   ]
  },
  {
   "cell_type": "code",
   "execution_count": 7,
   "id": "48263aea",
   "metadata": {},
   "outputs": [
    {
     "data": {
      "text/plain": [
       "True"
      ]
     },
     "execution_count": 7,
     "metadata": {},
     "output_type": "execute_result"
    }
   ],
   "source": [
    "'cat' in spam.keys() #checking explicitly if cat is present in keys"
   ]
  },
  {
   "cell_type": "code",
   "execution_count": 8,
   "id": "ab6a6cef",
   "metadata": {},
   "outputs": [
    {
     "data": {
      "text/plain": [
       "False"
      ]
     },
     "execution_count": 8,
     "metadata": {},
     "output_type": "execute_result"
    }
   ],
   "source": [
    "'cat' in spam.values() #checking explicitly if cat is present in values"
   ]
  },
  {
   "cell_type": "markdown",
   "id": "cf2abb4b",
   "metadata": {},
   "source": [
    "7. What is a shortcut for the following code? <br>\n",
    "if 'color' not in spam:<br>\n",
    "spam['color'] = 'black'"
   ]
  },
  {
   "cell_type": "code",
   "execution_count": 9,
   "id": "b7852de3",
   "metadata": {},
   "outputs": [],
   "source": [
    "spam={'cat':2,'color':'red'}"
   ]
  },
  {
   "cell_type": "code",
   "execution_count": 10,
   "id": "4af51b03",
   "metadata": {},
   "outputs": [
    {
     "data": {
      "text/plain": [
       "'red'"
      ]
     },
     "execution_count": 10,
     "metadata": {},
     "output_type": "execute_result"
    }
   ],
   "source": [
    "spam.setdefault('color','black')"
   ]
  },
  {
   "cell_type": "code",
   "execution_count": 11,
   "id": "70e8e84a",
   "metadata": {},
   "outputs": [
    {
     "data": {
      "text/plain": [
       "{'cat': 2, 'color': 'red'}"
      ]
     },
     "execution_count": 11,
     "metadata": {},
     "output_type": "execute_result"
    }
   ],
   "source": [
    "spam"
   ]
  },
  {
   "cell_type": "code",
   "execution_count": 12,
   "id": "faeb724e",
   "metadata": {},
   "outputs": [],
   "source": [
    "spam={'cat':2}"
   ]
  },
  {
   "cell_type": "code",
   "execution_count": 13,
   "id": "9ca88dac",
   "metadata": {},
   "outputs": [
    {
     "data": {
      "text/plain": [
       "'black'"
      ]
     },
     "execution_count": 13,
     "metadata": {},
     "output_type": "execute_result"
    }
   ],
   "source": [
    "spam.setdefault('color','black')"
   ]
  },
  {
   "cell_type": "code",
   "execution_count": 14,
   "id": "a93b09a2",
   "metadata": {},
   "outputs": [
    {
     "data": {
      "text/plain": [
       "{'cat': 2, 'color': 'black'}"
      ]
     },
     "execution_count": 14,
     "metadata": {},
     "output_type": "execute_result"
    }
   ],
   "source": [
    "spam"
   ]
  },
  {
   "cell_type": "markdown",
   "id": "c7a65bb8",
   "metadata": {},
   "source": [
    "8. How do you &quot;pretty print&quot; dictionary values using which module and function?<br>"
   ]
  },
  {
   "cell_type": "code",
   "execution_count": 17,
   "id": "9478bc7b",
   "metadata": {},
   "outputs": [
    {
     "name": "stdout",
     "output_type": "stream",
     "text": [
      "{'address': {'city': 'Wonderland', 'street': '123 Main St'},\n",
      " 'age': 30,\n",
      " 'name': 'Alice'}\n"
     ]
    }
   ],
   "source": [
    "from pprint import pprint\n",
    "\n",
    "my_dict = {\n",
    "    \"name\": \"Alice\",\n",
    "    \"age\": 30,\n",
    "    \"address\": {\n",
    "        \"street\": \"123 Main St\",\n",
    "        \"city\": \"Wonderland\"\n",
    "    }\n",
    "}\n",
    "\n",
    "pprint(my_dict)\n"
   ]
  },
  {
   "cell_type": "code",
   "execution_count": 18,
   "id": "306ea569",
   "metadata": {},
   "outputs": [
    {
     "name": "stdout",
     "output_type": "stream",
     "text": [
      "{'name': 'Alice', 'age': 30, 'address': {'street': '123 Main St', 'city': 'Wonderland'}}\n"
     ]
    }
   ],
   "source": [
    "print(my_dict)"
   ]
  },
  {
   "cell_type": "code",
   "execution_count": null,
   "id": "643cd133",
   "metadata": {},
   "outputs": [],
   "source": []
  },
  {
   "cell_type": "code",
   "execution_count": null,
   "id": "90747743",
   "metadata": {},
   "outputs": [],
   "source": []
  }
 ],
 "metadata": {
  "kernelspec": {
   "display_name": "Python 3 (ipykernel)",
   "language": "python",
   "name": "python3"
  },
  "language_info": {
   "codemirror_mode": {
    "name": "ipython",
    "version": 3
   },
   "file_extension": ".py",
   "mimetype": "text/x-python",
   "name": "python",
   "nbconvert_exporter": "python",
   "pygments_lexer": "ipython3",
   "version": "3.9.7"
  }
 },
 "nbformat": 4,
 "nbformat_minor": 5
}
