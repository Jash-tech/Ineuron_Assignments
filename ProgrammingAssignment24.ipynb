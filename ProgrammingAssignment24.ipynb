{
 "cells": [
  {
   "cell_type": "markdown",
   "id": "56daae3e",
   "metadata": {},
   "source": [
    "Ques1"
   ]
  },
  {
   "cell_type": "code",
   "execution_count": 1,
   "id": "8753fd82",
   "metadata": {},
   "outputs": [],
   "source": [
    "def amplify(a):\n",
    "    a=a+1\n",
    "    l=[]\n",
    "    for i in range(1,a):\n",
    "        if i%4==0:\n",
    "\n",
    "            i=i*10\n",
    "            l.append(i)\n",
    "        else:\n",
    "            l.append(i)\n",
    "    return l\n",
    "        "
   ]
  },
  {
   "cell_type": "code",
   "execution_count": 2,
   "id": "2ecaef72",
   "metadata": {},
   "outputs": [
    {
     "data": {
      "text/plain": [
       "[1, 2, 3, 40, 5, 6, 7, 80, 9, 10]"
      ]
     },
     "execution_count": 2,
     "metadata": {},
     "output_type": "execute_result"
    }
   ],
   "source": [
    "amplify(10)"
   ]
  },
  {
   "cell_type": "code",
   "execution_count": 3,
   "id": "ab62641f",
   "metadata": {},
   "outputs": [],
   "source": [
    "def amplify(a):\n",
    "    a=a+1\n",
    "    l=[i*10 if i%4==0 else i for i in range(1,a)]\n",
    "    return l"
   ]
  },
  {
   "cell_type": "code",
   "execution_count": 4,
   "id": "9ac6cc26",
   "metadata": {},
   "outputs": [
    {
     "data": {
      "text/plain": [
       "[1, 2, 3, 40, 5, 6, 7, 80, 9, 10, 11, 120, 13, 14, 15]"
      ]
     },
     "execution_count": 4,
     "metadata": {},
     "output_type": "execute_result"
    }
   ],
   "source": [
    "amplify(15)"
   ]
  },
  {
   "cell_type": "code",
   "execution_count": 5,
   "id": "ff21a899",
   "metadata": {},
   "outputs": [
    {
     "data": {
      "text/plain": [
       "[1, 2, 3, 40, 5, 6, 7, 80, 9, 10, 11, 120, 13, 14, 15, 160, 17, 18, 19, 200]"
      ]
     },
     "execution_count": 5,
     "metadata": {},
     "output_type": "execute_result"
    }
   ],
   "source": [
    "amplify(20)"
   ]
  },
  {
   "cell_type": "markdown",
   "id": "bc6c5757",
   "metadata": {},
   "source": [
    "Ques2"
   ]
  },
  {
   "cell_type": "code",
   "execution_count": 6,
   "id": "476a259d",
   "metadata": {},
   "outputs": [],
   "source": [
    "def find_unique_number(numbers):\n",
    "    unique_numbers = {}\n",
    "    unique_list=[]\n",
    "    \n",
    "    for num in numbers:\n",
    "        if num in unique_numbers:\n",
    "            unique_numbers[num] += 1\n",
    "        else:\n",
    "            unique_numbers[num] = 1\n",
    "            \n",
    "    for num, count in unique_numbers.items():\n",
    "        if count == 1:\n",
    "            unique_list.append(num)\n",
    "    return unique_list\n",
    "\n",
    "\n"
   ]
  },
  {
   "cell_type": "code",
   "execution_count": 7,
   "id": "5ddfafd9",
   "metadata": {},
   "outputs": [
    {
     "data": {
      "text/plain": [
       "[1, 2, 3, 4, 5]"
      ]
     },
     "execution_count": 7,
     "metadata": {},
     "output_type": "execute_result"
    }
   ],
   "source": [
    "find_unique_number([1,2,3,4,5,6,6,6])"
   ]
  },
  {
   "cell_type": "markdown",
   "id": "04bd44b2",
   "metadata": {},
   "source": [
    "Ques3"
   ]
  },
  {
   "cell_type": "code",
   "execution_count": 8,
   "id": "aa378634",
   "metadata": {},
   "outputs": [],
   "source": [
    "class circle:\n",
    "    def __init__(self,r):\n",
    "        self.r=r\n",
    "        \n",
    "    def get_area(self):\n",
    "        return int(3.14*self.r*self.r)\n",
    "    \n",
    "    def get_perimeter(self):\n",
    "        return int(2*3.14*self.r)"
   ]
  },
  {
   "cell_type": "code",
   "execution_count": 9,
   "id": "87040483",
   "metadata": {},
   "outputs": [],
   "source": [
    "a=circle(4)"
   ]
  },
  {
   "cell_type": "code",
   "execution_count": 10,
   "id": "f9e951d1",
   "metadata": {},
   "outputs": [
    {
     "data": {
      "text/plain": [
       "50"
      ]
     },
     "execution_count": 10,
     "metadata": {},
     "output_type": "execute_result"
    }
   ],
   "source": [
    "a.get_area()"
   ]
  },
  {
   "cell_type": "code",
   "execution_count": 11,
   "id": "4112aaf3",
   "metadata": {},
   "outputs": [
    {
     "data": {
      "text/plain": [
       "25"
      ]
     },
     "execution_count": 11,
     "metadata": {},
     "output_type": "execute_result"
    }
   ],
   "source": [
    "a.get_perimeter()"
   ]
  },
  {
   "cell_type": "markdown",
   "id": "00671680",
   "metadata": {},
   "source": [
    "Ques4"
   ]
  },
  {
   "cell_type": "code",
   "execution_count": 35,
   "id": "5cd4353f",
   "metadata": {},
   "outputs": [
    {
     "name": "stdout",
     "output_type": "stream",
     "text": [
      "It's a Pythagorean Triplet\n"
     ]
    }
   ],
   "source": [
    "def check_triplet(l):\n",
    "    try:\n",
    "        if isinstance(l, list) and len(l) == 3 and all(isinstance(num,int) for num in l):\n",
    "            l.sort(reverse=True)\n",
    "            for i in range(len(l)-2):  # Adjusted loop range\n",
    "                if l[i] * l[i] == l[i+1] * l[i+1] + l[i+2] * l[i+2]:\n",
    "                    print(\"It's a Pythagorean Triplet\")\n",
    "                else:\n",
    "                    \n",
    "                    \n",
    "                    print(\"It's Not a Pythagorean Triplet\")\n",
    "        else:\n",
    "            print(\"Incorrrect Format\")\n",
    "    except Exception as e:\n",
    "        print(\"Error:\", e)\n",
    "\n",
    "check_triplet([4, 5, 3])\n"
   ]
  },
  {
   "cell_type": "code",
   "execution_count": 39,
   "id": "c6bd7a8c",
   "metadata": {},
   "outputs": [
    {
     "name": "stdout",
     "output_type": "stream",
     "text": [
      "It's Not a Pythagorean Triplet\n"
     ]
    }
   ],
   "source": [
    "check_triplet([5,4,2])"
   ]
  },
  {
   "cell_type": "code",
   "execution_count": null,
   "id": "ce1927c4",
   "metadata": {},
   "outputs": [],
   "source": []
  }
 ],
 "metadata": {
  "kernelspec": {
   "display_name": "Python 3 (ipykernel)",
   "language": "python",
   "name": "python3"
  },
  "language_info": {
   "codemirror_mode": {
    "name": "ipython",
    "version": 3
   },
   "file_extension": ".py",
   "mimetype": "text/x-python",
   "name": "python",
   "nbconvert_exporter": "python",
   "pygments_lexer": "ipython3",
   "version": "3.9.7"
  }
 },
 "nbformat": 4,
 "nbformat_minor": 5
}
